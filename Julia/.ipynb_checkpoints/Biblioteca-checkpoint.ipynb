{
 "cells": [
  {
   "cell_type": "code",
   "execution_count": 3,
   "id": "f9e5c561",
   "metadata": {},
   "outputs": [
    {
     "name": "stdout",
     "output_type": "stream",
     "text": [
      "\n",
      "Esse código realizado por mim, Vítor Sallenave Sales Milome, apresenta uma biblioteca bem simples - onde podemos realizar 3 operações básicas sobre seu acervo, como adicionar ou excluir livros e também alugá-los\n"
     ]
    }
   ],
   "source": [
    "# T2 - Programa básico em Julia\n",
    "\n",
    "autor = \"Vítor Sallenave Sales Milome\"\n",
    "\n",
    "println(\"\\nEsse código realizado por mim, $autor, apresenta uma biblioteca bem simples - onde podemos realizar 3 operações básicas sobre seu acervo, como adicionar ou excluir livros e também alugá-los\")"
   ]
  },
  {
   "cell_type": "code",
   "execution_count": null,
   "id": "208b8e11",
   "metadata": {},
   "outputs": [],
   "source": [
    "# Funções auxiliares\n"
   ]
  },
  {
   "cell_type": "code",
   "execution_count": null,
   "id": "9c70b769",
   "metadata": {},
   "outputs": [],
   "source": [
    "# Livros iniciais\n",
    "biblioteca = Dict(\"Livro 1\" => 0, \"Livro 2\" => 0)\n",
    "continuar = true\n",
    "\n",
    "while continuar == true\n",
    "    # Mostrando o acervo de livros para o usuário\n",
    "    println(\"\\nLivros disponíveis:\\n\")\n",
    "    for livro = keys(biblioteca)\n",
    "        println(\"--> $livro\")\n",
    "    end\n",
    "\n",
    "    # Perguntando ao usuário qual ação será realizada\n",
    "    println(\"\"\"\\nVocê deseja alugar, adicionar ou excluir um livro?\n",
    "\n",
    "    1 - Alugar\n",
    "    2 - Adicionar\n",
    "    3 - Excluir\"\"\")\n",
    "    \n",
    "    # Lendo a resposta do usuário\n",
    "    r = readline()\n",
    "    r = parse(Int64, r)\n",
    "    println(\"Resposta: $r\")\n",
    "\n",
    "    # 1 - Alugando um livro\n",
    "\n",
    "    # 2 - Adicionando um livro à biblioteca\n",
    "    #biblioteca[nome_livro] = 0\n",
    "\n",
    "    # 3 - Excluindo um livro da biblioteca\n",
    "    #!pop(biblioteca, nome_livro)\n",
    "\n",
    "    # Verificando se o usuário deseja continuar\n",
    "    # Obs.: a biblioteca será atualizada\n",
    "    println(\"Quer continuar? [S/N]\")\n",
    "    r = readline()\n",
    "    if r == \"N\" | r == \"n\"\n",
    "        global continuar = false\n",
    "        println(\"\\nO programa foi encerrado!\")\n",
    "    end\n",
    "end"
   ]
  }
 ],
 "metadata": {
  "kernelspec": {
   "display_name": "Julia 1.10.2",
   "language": "julia",
   "name": "julia-1.10"
  },
  "language_info": {
   "file_extension": ".jl",
   "mimetype": "application/julia",
   "name": "julia",
   "version": "1.10.2"
  }
 },
 "nbformat": 4,
 "nbformat_minor": 5
}
