{
 "cells": [
  {
   "cell_type": "code",
   "execution_count": 23,
   "metadata": {},
   "outputs": [
    {
     "ename": "ErrorException",
     "evalue": "invalid redefinition of constant Main.Livro",
     "output_type": "error",
     "traceback": [
      "invalid redefinition of constant Main.Livro\n",
      "\n",
      "Stacktrace:\n",
      " [1] top-level scope\n",
      "   @ c:\\Users\\selma\\OneDrive\\Área de Trabalho\\Programação\\Projetos\\Estrutura-De-Linguagens\\Julia\\T5.ipynb:5"
     ]
    }
   ],
   "source": [
    "# Definição de tipos para os diferentes produtos da nossa biblioteca\n",
    "\n",
    "abstract type Produto end\n",
    "\n",
    "struct Livro <: Produto\n",
    "    titulo::String\n",
    "    autor::String\n",
    "    ano_publicacao::Int\n",
    "end\n",
    "\n",
    "struct DVD <: Produto\n",
    "    titulo::String\n",
    "    diretor::String\n",
    "    bilheteria::Int\n",
    "    ano_lancamento::Int\n",
    "end\n",
    "\n",
    "struct CD <: Produto\n",
    "    titulo::String\n",
    "    artista::String\n",
    "    genero::String\n",
    "    ano_criacao::Int\n",
    "end\n"
   ]
  },
  {
   "cell_type": "code",
   "execution_count": 30,
   "metadata": {},
   "outputs": [
    {
     "data": {
      "text/plain": [
       "emprestar (generic function with 3 methods)"
      ]
     },
     "metadata": {},
     "output_type": "display_data"
    }
   ],
   "source": [
    "# Funções para emprestar cada tipo de produto\n",
    "function emprestar(produto::Livro, usuario::String)\n",
    "    println(\"O livro $(produto.titulo) do autor $(produto.autor) ($(produto.ano_publicacao)) foi emprestado para $usuario.\")\n",
    "end\n",
    "\n",
    "function emprestar(produto::DVD, usuario::String)\n",
    "    println(\"O DVD do filme $(produto.titulo) do produtor $(produto.diretor) ($(produto.ano_lancamento)), que teve faturamento de $(produto.bilheteria) dolares, foi emprestado para $usuario.\")\n",
    "end\n",
    "\n",
    "function emprestar(produto::CD, usuario::String)\n",
    "    println(\"O CD de $(produto.genero) $(produto.titulo) do artista $(produto.artista) ($(produto.ano_criacao)) foi emprestado para $usuario.\")\n",
    "end"
   ]
  },
  {
   "cell_type": "code",
   "execution_count": 31,
   "metadata": {},
   "outputs": [
    {
     "ename": "MethodError",
     "evalue": "MethodError: no method matching DVD(::String, ::String, ::Int64, ::Int64)\n\nClosest candidates are:\n  DVD(::String, ::String, ::Int64)\n   @ Main c:\\Users\\selma\\OneDrive\\Área de Trabalho\\Programação\\Projetos\\Estrutura-De-Linguagens\\Julia\\T5.ipynb:12\n  DVD(::Any, ::Any, ::Any)\n   @ Main c:\\Users\\selma\\OneDrive\\Área de Trabalho\\Programação\\Projetos\\Estrutura-De-Linguagens\\Julia\\T5.ipynb:12\n",
     "output_type": "error",
     "traceback": [
      "MethodError: no method matching DVD(::String, ::String, ::Int64, ::Int64)\n",
      "\n",
      "Closest candidates are:\n",
      "  DVD(::String, ::String, ::Int64)\n",
      "   @ Main c:\\Users\\selma\\OneDrive\\Área de Trabalho\\Programação\\Projetos\\Estrutura-De-Linguagens\\Julia\\T5.ipynb:12\n",
      "  DVD(::Any, ::Any, ::Any)\n",
      "   @ Main c:\\Users\\selma\\OneDrive\\Área de Trabalho\\Programação\\Projetos\\Estrutura-De-Linguagens\\Julia\\T5.ipynb:12\n",
      "\n",
      "\n",
      "Stacktrace:\n",
      " [1] top-level scope\n",
      "   @ c:\\Users\\selma\\OneDrive\\Área de Trabalho\\Programação\\Projetos\\Estrutura-De-Linguagens\\Julia\\T5.ipynb:2"
     ]
    }
   ],
   "source": [
    "# Criando objetos de cada tipo\n",
    "dvd = DVD(\"Rebel Moon\", \"Zack Snyder\", 2000, 2024)\n",
    "\n",
    "livro = Livro(\"Turma da Monica\", \"Mauricio de Souza\", 1970)\n",
    "\n",
    "cd = CD(\"Verde Que Te Quero Rosa\", \"Cartola\", \"Samba\",1977)"
   ]
  },
  {
   "cell_type": "code",
   "execution_count": 29,
   "metadata": {},
   "outputs": [
    {
     "name": "stdout",
     "output_type": "stream",
     "text": [
      "O livro Turma da Monica do autor Mauricio de Souza (1970) foi emprestado para Vitor.\n"
     ]
    },
    {
     "ename": "ErrorException",
     "evalue": "type DVD has no field bilheteria",
     "output_type": "error",
     "traceback": [
      "type DVD has no field bilheteria\n",
      "\n",
      "Stacktrace:\n",
      " [1] getproperty\n",
      "   @ .\\Base.jl:37 [inlined]\n",
      " [2] emprestar(produto::DVD, usuario::String)\n",
      "   @ Main c:\\Users\\selma\\OneDrive\\Área de Trabalho\\Programação\\Projetos\\Estrutura-De-Linguagens\\Julia\\T5.ipynb:7\n",
      " [3] top-level scope\n",
      "   @ c:\\Users\\selma\\OneDrive\\Área de Trabalho\\Programação\\Projetos\\Estrutura-De-Linguagens\\Julia\\T5.ipynb:2"
     ]
    }
   ],
   "source": [
    "emprestar(livro, \"Vitor\")\n",
    "emprestar(dvd, \"Fatima\")\n",
    "emprestar(cd, \"Carlos\")"
   ]
  }
 ],
 "metadata": {
  "kernelspec": {
   "display_name": "Julia 1.10.2",
   "language": "julia",
   "name": "julia-1.10"
  },
  "language_info": {
   "file_extension": ".jl",
   "mimetype": "application/julia",
   "name": "julia",
   "version": "1.10.2"
  }
 },
 "nbformat": 4,
 "nbformat_minor": 2
}
