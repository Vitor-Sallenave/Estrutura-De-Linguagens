{
 "cells": [
  {
   "cell_type": "code",
   "execution_count": 2,
   "id": "f9e5c561",
   "metadata": {},
   "outputs": [
    {
     "name": "stdout",
     "output_type": "stream",
     "text": [
      "\n",
      "Esse código realizado por mim, Vítor Sallenave Sales Milome, apresenta uma biblioteca bem simples - onde podemos realizar 3 operações básicas sobre seu acervo, como adicionar ou excluir livros e também alugá-los\n"
     ]
    }
   ],
   "source": [
    "# T2 - Programa básico em Julia\n",
    "\n",
    "autor = \"Vítor Sallenave Sales Milome\"\n",
    "\n",
    "println(\"\\nEsse código realizado por mim, $autor, apresenta uma biblioteca bem simples - onde podemos realizar 3 operações básicas sobre seu acervo, como adicionar ou excluir livros e também alugá-los\")"
   ]
  },
  {
   "cell_type": "code",
   "execution_count": 3,
   "id": "208b8e11",
   "metadata": {},
   "outputs": [
    {
     "data": {
      "text/plain": [
       "manage_lib! (generic function with 1 method)"
      ]
     },
     "execution_count": 3,
     "metadata": {},
     "output_type": "execute_result"
    }
   ],
   "source": [
    "# Função para mostrar o acervo de livros existente\n",
    "function show_books(lib)\n",
    "    println(\"\\nLivros da Biblioteca:\\n\")\n",
    "    for book = keys(lib)\n",
    "        status = lib[book]\n",
    "        println(\"--> $book {$status}\")\n",
    "    end\n",
    "end\n",
    "\n",
    "# Função para adicionar novos livros\n",
    "# Obs.: ela modifica o conteúdo da biblioteca (\"!\")\n",
    "function add_book!(lib, book_name)\n",
    "    lib[book_name] = 0 # Disponível\n",
    "end\n",
    "\n",
    "# Função para excluir livros\n",
    "function pop_book!(lib, book_name)\n",
    "    if book_name in keys(lib)\n",
    "        pop!(lib, book_name)\n",
    "    else\n",
    "        # Livro inexistente\n",
    "        println(\"\\nERRO! Livro inexistente!\")\n",
    "    end\n",
    "end\n",
    "\n",
    "# Função para alugar um livro\n",
    "function rent_book!(lib, book_name)\n",
    "    if lib[book_name] == 0\n",
    "        lib[book_name] = 1 # Indisponível\n",
    "    else\n",
    "        # Livro já alugado\n",
    "        println(\"\\nERRO! Livro já alugado!\")\n",
    "    end\n",
    "end\n",
    "\n",
    "# Função que gerencia a biblioteca\n",
    "function manage_lib!(lib, op, book_name)\n",
    "    if op == 1\n",
    "        rent_book!(lib, book_name)\n",
    "    elseif op == 2\n",
    "        add_book!(lib, book_name)\n",
    "    elseif op == 3\n",
    "        pop_book!(lib, book_name)\n",
    "    else\n",
    "        println(\"\\nERRO! Opção inválida!\")\n",
    "    end\n",
    "end"
   ]
  },
  {
   "cell_type": "code",
   "execution_count": 4,
   "id": "fd2f3dd6",
   "metadata": {},
   "outputs": [
    {
     "data": {
      "text/plain": [
       "Dict{String, Int64} with 2 entries:\n",
       "  \"Turma da Monica\" => 0\n",
       "  \"Percy Jackson\"   => 0"
      ]
     },
     "execution_count": 4,
     "metadata": {},
     "output_type": "execute_result"
    }
   ],
   "source": [
    "# Livros iniciais\n",
    "biblioteca = Dict(\"Turma da Monica\" => 0,\n",
    "\"Percy Jackson\" => 0)"
   ]
  },
  {
   "cell_type": "code",
   "execution_count": 5,
   "id": "9c70b769",
   "metadata": {},
   "outputs": [
    {
     "name": "stdout",
     "output_type": "stream",
     "text": [
      "\n",
      "Livros da Biblioteca:\n",
      "\n",
      "--> Turma da Monica {0}\n",
      "--> Percy Jackson {0}\n",
      "\n",
      "Você deseja alugar, adicionar ou excluir um livro?\n",
      "\n",
      "1 - Alugar\n",
      "2 - Adicionar\n",
      "3 - Excluir\n",
      "stdin> 1\n",
      "\n",
      "Qual o nome do livro?\n",
      "stdin> Turma da Monica\n",
      "\n",
      "Quer continuar? [S/N]\n",
      "stdin> s\n",
      "\n",
      "Livros da Biblioteca:\n",
      "\n",
      "--> Turma da Monica {1}\n",
      "--> Percy Jackson {0}\n",
      "\n",
      "Você deseja alugar, adicionar ou excluir um livro?\n",
      "\n",
      "1 - Alugar\n",
      "2 - Adicionar\n",
      "3 - Excluir\n",
      "stdin> 2\n",
      "\n",
      "Qual o nome do livro?\n",
      "stdin> Sitio do Pica Pau Amarelo\n",
      "\n",
      "Quer continuar? [S/N]\n",
      "stdin> s\n",
      "\n",
      "Livros da Biblioteca:\n",
      "\n",
      "--> Turma da Monica {1}\n",
      "--> Percy Jackson {0}\n",
      "--> Sitio do Pica Pau Amarelo {0}\n",
      "\n",
      "Você deseja alugar, adicionar ou excluir um livro?\n",
      "\n",
      "1 - Alugar\n",
      "2 - Adicionar\n",
      "3 - Excluir\n",
      "stdin> 3\n",
      "\n",
      "Qual o nome do livro?\n",
      "stdin> Percy Jackson\n",
      "\n",
      "Quer continuar? [S/N]\n",
      "stdin> s\n",
      "\n",
      "Livros da Biblioteca:\n",
      "\n",
      "--> Turma da Monica {1}\n",
      "--> Sitio do Pica Pau Amarelo {0}\n",
      "\n",
      "Você deseja alugar, adicionar ou excluir um livro?\n",
      "\n",
      "1 - Alugar\n",
      "2 - Adicionar\n",
      "3 - Excluir\n",
      "stdin> 1\n",
      "\n",
      "Qual o nome do livro?\n",
      "stdin> Turma da Monica\n",
      "\n",
      "ERRO! Livro já alugado!\n",
      "\n",
      "Quer continuar? [S/N]\n",
      "stdin> n\n",
      "\n",
      "Livros da Biblioteca:\n",
      "\n",
      "--> Turma da Monica {1}\n",
      "--> Sitio do Pica Pau Amarelo {0}\n",
      "\n",
      "Você deseja alugar, adicionar ou excluir um livro?\n",
      "\n",
      "1 - Alugar\n",
      "2 - Adicionar\n",
      "3 - Excluir\n",
      "stdin> 3\n",
      "\n",
      "Qual o nome do livro?\n",
      "stdin> Turma da Monica\n",
      "\n",
      "Quer continuar? [S/N]\n",
      "stdin> N\n",
      "\n",
      "O programa foi encerrado!\n"
     ]
    }
   ],
   "source": [
    "continuar = true\n",
    "\n",
    "while continuar == true\n",
    "    # Mostrando o acervo de livros para o usuário\n",
    "    show_books(biblioteca)\n",
    "\n",
    "    # Perguntando ao usuário qual ação será realizada\n",
    "    println(\"\"\"\\nVocê deseja alugar, adicionar ou excluir um livro?\n",
    "\n",
    "    1 - Alugar\n",
    "    2 - Adicionar\n",
    "    3 - Excluir\"\"\")\n",
    "    \n",
    "    # Lendo a resposta do usuário\n",
    "    op = parse(Int64, readline())\n",
    "    println(\"\\nQual o nome do livro?\")\n",
    "    book_name = readline()\n",
    "    # A biblioteca será atualizada\n",
    "    manage_lib!(biblioteca, op, book_name)\n",
    "\n",
    "    # Verificando se o usuário deseja continuar\n",
    "    println(\"\\nQuer continuar? [S/N]\")\n",
    "    r = readline()\n",
    "    if cmp(r, \"N\") == 0\n",
    "        global continuar = false\n",
    "        println(\"\\nO programa foi encerrado!\")\n",
    "    end\n",
    "end"
   ]
  }
 ],
 "metadata": {
  "kernelspec": {
   "display_name": "Julia 1.10.2",
   "language": "julia",
   "name": "julia-1.10"
  },
  "language_info": {
   "file_extension": ".jl",
   "mimetype": "application/julia",
   "name": "julia",
   "version": "1.10.2"
  }
 },
 "nbformat": 4,
 "nbformat_minor": 5
}
