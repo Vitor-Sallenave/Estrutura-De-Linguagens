{
 "cells": [
  {
   "cell_type": "code",
   "execution_count": 1,
   "id": "f9e5c561",
   "metadata": {},
   "outputs": [
    {
     "name": "stdout",
     "output_type": "stream",
     "text": [
      "\n",
      "Esse código realizado por mim, Vítor Sallenave Sales Milome, apresenta uma biblioteca bem simples - onde podemos realizar 3 operações básicas sobre seu acervo, como adicionar ou excluir livros e também alugá-los\n"
     ]
    }
   ],
   "source": [
    "# T2 - Programa básico em Julia\n",
    "\n",
    "autor = \"Vítor Sallenave Sales Milome\"\n",
    "\n",
    "println(\"\\nEsse código realizado por mim, $autor, apresenta uma biblioteca bem simples - onde podemos realizar 3 operações básicas sobre seu acervo, como adicionar ou excluir livros e também alugá-los\")"
   ]
  },
  {
   "cell_type": "code",
   "execution_count": 11,
   "id": "208b8e11",
   "metadata": {},
   "outputs": [
    {
     "data": {
      "text/plain": [
       "manage_lib! (generic function with 2 methods)"
      ]
     },
     "execution_count": 11,
     "metadata": {},
     "output_type": "execute_result"
    }
   ],
   "source": [
    "# Função para mostrar o acervo de livros existente\n",
    "function show_books(lib)\n",
    "    println(\"\\nLivros da Biblioteca:\\n\")\n",
    "    for book = keys(lib)\n",
    "        status = lib[book]\n",
    "        println(\"--> $book {$status}\")\n",
    "    end\n",
    "end\n",
    "\n",
    "# Função para adicionar novos livros\n",
    "# Obs.: ela modifica o conteúdo da biblioteca (\"!\")\n",
    "function add_book!(lib, book_name)\n",
    "    lib[book_name] = 0 # Disponível\n",
    "end\n",
    "\n",
    "# Função para excluir livros\n",
    "function pop_book!(lib, book_name)\n",
    "    if book_name in keys(lib)\n",
    "        pop!(lib, book_name)\n",
    "    else\n",
    "        # Livro inexistente\n",
    "        println(\"ERRO!\")\n",
    "    end\n",
    "end\n",
    "\n",
    "# Função para alugar um livro\n",
    "function rent_book!(lib, book_name)\n",
    "    if lib[book_name] == 0\n",
    "        lib[book_name] = 1 # Indisponível\n",
    "    else\n",
    "        # Livro já alugado\n",
    "        println(\"ERRO! Livro já alugado!\")\n",
    "    end\n",
    "end\n",
    "\n",
    "function manage_lib!(lib, op, book_name)\n",
    "    if op == 1\n",
    "        rent_book!(lib, book_name)\n",
    "    elseif op == 2\n",
    "        add_book!(lib, book_name)\n",
    "    elseif op == 3\n",
    "        pop_book!(lib, book_name)\n",
    "    else\n",
    "        println(\"ERRO! Opção inválida!\")\n",
    "    end\n",
    "end"
   ]
  },
  {
   "cell_type": "code",
   "execution_count": 12,
   "id": "fd2f3dd6",
   "metadata": {},
   "outputs": [
    {
     "data": {
      "text/plain": [
       "Dict{String, Int64} with 2 entries:\n",
       "  \"Turma da Monica\" => 0\n",
       "  \"Percy Jackson\"   => 0"
      ]
     },
     "execution_count": 12,
     "metadata": {},
     "output_type": "execute_result"
    }
   ],
   "source": [
    "# Livros iniciais\n",
    "biblioteca = Dict(\"Turma da Monica\" => 0,\n",
    "\"Percy Jackson\" => 0)"
   ]
  },
  {
   "cell_type": "code",
   "execution_count": 13,
   "id": "9c70b769",
   "metadata": {},
   "outputs": [
    {
     "name": "stdout",
     "output_type": "stream",
     "text": [
      "\n",
      "Livros disponíveis:\n",
      "\n",
      "--> Turma da Monica\n",
      "--> Percy Jackson\n",
      "\n",
      "Você deseja alugar, adicionar ou excluir um livro?\n",
      "\n",
      "1 - Alugar\n",
      "2 - Adicionar\n",
      "3 - Excluir\n",
      "stdin> 1\n",
      "Qual o nome do livro?\n",
      "stdin> Percy Jackson\n",
      "Quer continuar? [S/N]\n",
      "stdin> S\n",
      "\n",
      "Livros disponíveis:\n",
      "\n",
      "--> Turma da Monica\n",
      "--> Percy Jackson\n",
      "\n",
      "Você deseja alugar, adicionar ou excluir um livro?\n",
      "\n",
      "1 - Alugar\n",
      "2 - Adicionar\n",
      "3 - Excluir\n",
      "stdin> 2\n",
      "Qual o nome do livro?\n",
      "stdin> Neymarzinho\n",
      "Quer continuar? [S/N]\n",
      "stdin> s\n",
      "\n",
      "Livros disponíveis:\n",
      "\n",
      "--> Turma da Monica\n",
      "--> Neymarzinho\n",
      "--> Percy Jackson\n",
      "\n",
      "Você deseja alugar, adicionar ou excluir um livro?\n",
      "\n",
      "1 - Alugar\n",
      "2 - Adicionar\n",
      "3 - Excluir\n",
      "stdin> 3\n",
      "Qual o nome do livro?\n",
      "stdin> Turma da Monica\n",
      "Quer continuar? [S/N]\n",
      "stdin> s\n",
      "\n",
      "Livros disponíveis:\n",
      "\n",
      "--> Neymarzinho\n",
      "--> Percy Jackson\n",
      "\n",
      "Você deseja alugar, adicionar ou excluir um livro?\n",
      "\n",
      "1 - Alugar\n",
      "2 - Adicionar\n",
      "3 - Excluir\n",
      "stdin> 1\n",
      "Qual o nome do livro?\n",
      "stdin> Percy Jackson\n",
      "ERRO! Livro já alugado!\n",
      "Quer continuar? [S/N]\n",
      "stdin> s\n",
      "\n",
      "Livros disponíveis:\n",
      "\n",
      "--> Neymarzinho\n",
      "--> Percy Jackson\n",
      "\n",
      "Você deseja alugar, adicionar ou excluir um livro?\n",
      "\n",
      "1 - Alugar\n",
      "2 - Adicionar\n",
      "3 - Excluir\n",
      "stdin> 2\n",
      "Qual o nome do livro?\n",
      "stdin> OPP\n",
      "Quer continuar? [S/N]\n",
      "stdin> s\n",
      "\n",
      "Livros disponíveis:\n",
      "\n",
      "--> Neymarzinho\n",
      "--> Percy Jackson\n",
      "--> OPP\n",
      "\n",
      "Você deseja alugar, adicionar ou excluir um livro?\n",
      "\n",
      "1 - Alugar\n",
      "2 - Adicionar\n",
      "3 - Excluir\n",
      "stdin> 1\n",
      "Qual o nome do livro?\n",
      "stdin> Neymarzinho\n",
      "Quer continuar? [S/N]\n",
      "stdin> N\n",
      "\n",
      "O programa foi encerrado!\n"
     ]
    }
   ],
   "source": [
    "continuar = true\n",
    "\n",
    "while continuar == true\n",
    "    # Mostrando o acervo de livros para o usuário\n",
    "    show_books(biblioteca)\n",
    "\n",
    "    # Perguntando ao usuário qual ação será realizada\n",
    "    println(\"\"\"\\nVocê deseja alugar, adicionar ou excluir um livro?\n",
    "\n",
    "    1 - Alugar\n",
    "    2 - Adicionar\n",
    "    3 - Excluir\"\"\")\n",
    "    \n",
    "    # Lendo a resposta do usuário\n",
    "    op = parse(Int64, readline())\n",
    "    println(\"Qual o nome do livro?\")\n",
    "    book_name = readline()\n",
    "    # A biblioteca será atualizada\n",
    "    manage_lib!(biblioteca, op, book_name)\n",
    "\n",
    "    # Verificando se o usuário deseja continuar\n",
    "    println(\"Quer continuar? [S/N]\")\n",
    "    r = readline()\n",
    "    if cmp(r, \"N\") == 0\n",
    "        global continuar = false\n",
    "        println(\"\\nO programa foi encerrado!\")\n",
    "    end\n",
    "end"
   ]
  },
  {
   "cell_type": "code",
   "execution_count": null,
   "id": "b64ba1e9",
   "metadata": {},
   "outputs": [],
   "source": []
  }
 ],
 "metadata": {
  "kernelspec": {
   "display_name": "Julia 1.10.2",
   "language": "julia",
   "name": "julia-1.10"
  },
  "language_info": {
   "file_extension": ".jl",
   "mimetype": "application/julia",
   "name": "julia",
   "version": "1.10.2"
  }
 },
 "nbformat": 4,
 "nbformat_minor": 5
}
