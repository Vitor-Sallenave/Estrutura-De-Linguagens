{
 "cells": [
  {
   "cell_type": "code",
   "execution_count": 1,
   "id": "f9e5c561",
   "metadata": {},
   "outputs": [
    {
     "name": "stdout",
     "output_type": "stream",
     "text": [
      "\n",
      "Esse código realizado por mim, Vítor Sallenave Sales Milome, apresenta uma biblioteca bem simples - onde podemos realizar 3 operações básicas sobre seu acervo, como adicionar ou excluir livros e também alugá-los\n"
     ]
    }
   ],
   "source": [
    "# T2 - Programa básico em Julia\n",
    "\n",
    "autor = \"Vítor Sallenave Sales Milome\"\n",
    "\n",
    "println(\"\\nEsse código realizado por mim, $autor, apresenta uma biblioteca bem simples - onde podemos realizar 3 operações básicas sobre seu acervo, como adicionar ou excluir livros e também alugá-los\")"
   ]
  },
  {
   "cell_type": "code",
   "execution_count": 16,
   "id": "208b8e11",
   "metadata": {},
   "outputs": [
    {
     "data": {
      "text/plain": [
       "manage_lib! (generic function with 1 method)"
      ]
     },
     "execution_count": 16,
     "metadata": {},
     "output_type": "execute_result"
    }
   ],
   "source": [
    "# Função para mostrar o acervo de livros existente\n",
    "function show_books(lib)\n",
    "    println(\"\\nLivros disponíveis:\\n\")\n",
    "    for book = keys(lib)\n",
    "        println(\"--> $book\")\n",
    "    end\n",
    "end\n",
    "\n",
    "# Função para adicionar novos livros\n",
    "# Obs.: ela modifica o conteúdo da biblioteca (\"!\")\n",
    "function add_book!(lib, book_name)\n",
    "    lib[book_name] = 0 # Disponível\n",
    "end\n",
    "\n",
    "# Função para excluir livros\n",
    "function pop_book!(lib, book_name)\n",
    "    if book_name in keys(lib)\n",
    "        pop!(lib, book_name)\n",
    "    else\n",
    "        # Livro inexistente\n",
    "        println(\"ERRO!\")\n",
    "    end\n",
    "end\n",
    "\n",
    "# Função para alugar um livro\n",
    "function rent_book!(lib, book_name)\n",
    "    if lib[book_name] == 0\n",
    "        lib[book_name] = 1 # Indisponível\n",
    "    else\n",
    "        # Livro já alugado\n",
    "        println(\"ERRO!\")\n",
    "    end\n",
    "end\n",
    "\n",
    "function manage_lib!(lib, op)\n",
    "    if op == 1\n",
    "        rent_book(lib, book_name)\n",
    "    elseif op == 2\n",
    "        add_book(lib, book_name)\n",
    "    elseif op == 3\n",
    "        pop_book(lib, book_name)\n",
    "    else\n",
    "        println(\"ERRO!\")\n",
    "    end\n",
    "end"
   ]
  },
  {
   "cell_type": "code",
   "execution_count": 13,
   "id": "fd2f3dd6",
   "metadata": {},
   "outputs": [
    {
     "data": {
      "text/plain": [
       "Dict{String, Int64} with 2 entries:\n",
       "  \"Turma da Monica\" => 0\n",
       "  \"Percy Jackson\"   => 0"
      ]
     },
     "execution_count": 13,
     "metadata": {},
     "output_type": "execute_result"
    }
   ],
   "source": [
    "# Livros iniciais\n",
    "biblioteca = Dict(\"Turma da Monica\" => 0,\n",
    "\"Percy Jackson\" => 0)"
   ]
  },
  {
   "cell_type": "code",
   "execution_count": 17,
   "id": "9c70b769",
   "metadata": {},
   "outputs": [
    {
     "ename": "LoadError",
     "evalue": "syntax: invalid syntax in \"global\" declaration around In[17]:17",
     "output_type": "error",
     "traceback": [
      "syntax: invalid syntax in \"global\" declaration around In[17]:17",
      "",
      "Stacktrace:",
      " [1] top-level scope",
      "   @ In[17]:3"
     ]
    }
   ],
   "source": [
    "continuar = true\n",
    "\n",
    "while continuar == true\n",
    "    # Mostrando o acervo de livros para o usuário\n",
    "    show_books(biblioteca)\n",
    "\n",
    "    # Perguntando ao usuário qual ação será realizada\n",
    "    println(\"\"\"\\nVocê deseja alugar, adicionar ou excluir um livro?\n",
    "\n",
    "    1 - Alugar\n",
    "    2 - Adicionar\n",
    "    3 - Excluir\"\"\")\n",
    "    \n",
    "    # Lendo a resposta do usuário\n",
    "    r = parse(Int64, readline())\n",
    "    # A biblioteca será atualizada\n",
    "    manage_lib(biblioteca, r)\n",
    "\n",
    "    # Verificando se o usuário deseja continuar\n",
    "    println(\"Quer continuar? [S/N]\")\n",
    "    r = readline()\n",
    "    if r == \"N\" | r == \"n\"\n",
    "        global continuar = false\n",
    "        println(\"\\nO programa foi encerrado!\")\n",
    "    end\n",
    "end"
   ]
  }
 ],
 "metadata": {
  "kernelspec": {
   "display_name": "Julia 1.10.2",
   "language": "julia",
   "name": "julia-1.10"
  },
  "language_info": {
   "file_extension": ".jl",
   "mimetype": "application/julia",
   "name": "julia",
   "version": "1.10.2"
  }
 },
 "nbformat": 4,
 "nbformat_minor": 5
}
